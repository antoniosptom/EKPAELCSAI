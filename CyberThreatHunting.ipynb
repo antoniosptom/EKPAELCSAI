{
  "nbformat": 4,
  "nbformat_minor": 0,
  "metadata": {
    "colab": {
      "provenance": [],
      "include_colab_link": true
    },
    "kernelspec": {
      "name": "python3",
      "display_name": "Python 3"
    },
    "language_info": {
      "name": "python"
    }
  },
  "cells": [
    {
      "cell_type": "markdown",
      "metadata": {
        "id": "view-in-github",
        "colab_type": "text"
      },
      "source": [
        "<a href=\"https://colab.research.google.com/github/antoniosptom/EKPAELCSAI/blob/main/CyberThreatHunting.ipynb\" target=\"_parent\"><img src=\"https://colab.research.google.com/assets/colab-badge.svg\" alt=\"Open In Colab\"/></a>"
      ]
    },
    {
      "cell_type": "code",
      "source": [
        "# φόρτωση βιβλιοθηκών\n",
        "import pandas as pd\n",
        "from sklearn.ensemble import RandomForestClassifier\n",
        "from sklearn.model_selection import train_test_split\n",
        "from sklearn.metrics import accuracy_score\n",
        "import matplotlib.pyplot as plt\n",
        "import matplotlib.pyplot as plt\n",
        "import seaborn as sns\n",
        "from pylab import rcParams\n",
        "%matplotlib inline"
      ],
      "metadata": {
        "id": "RuoPaiNhvfZf"
      },
      "execution_count": 1,
      "outputs": []
    },
    {
      "cell_type": "code",
      "source": [
        "# έλεγχος κατανομής κλάσεων\n",
        "sns.set(style='whitegrid', palette='muted', font_scale=1.5)\n",
        "rcParams['figure.figsize'] = 14, 8\n",
        "RANDOM_SEED = 42\n",
        "LABELS = [\"Normal\", \"Fraud\"]"
      ],
      "metadata": {
        "id": "kYjE8yaqlTW5"
      },
      "execution_count": 2,
      "outputs": []
    },
    {
      "cell_type": "code",
      "source": [
        "# φόρτωση συνόλου δεδομένων\n",
        "url = \"https://raw.githubusercontent.com/nsethi31/Kaggle-Data-Credit-Card-Fraud-Detection/master/creditcard.csv\"\n",
        "data = pd.read_csv(url)"
      ],
      "metadata": {
        "id": "p7vLplZhle3l"
      },
      "execution_count": 3,
      "outputs": []
    },
    {
      "cell_type": "code",
      "source": [
        "# διαγραφή κενών ή μη αριθμητικών τιμών\n",
        "data = data.select_dtypes(include=['float64', 'int64']).dropna()"
      ],
      "metadata": {
        "id": "ZOZv5Hr0li_o"
      },
      "execution_count": 4,
      "outputs": []
    },
    {
      "cell_type": "code",
      "source": [
        "# διαχωρισμός ανεξάρτητων και εξαρτημένων μεταβλητών\n"
      ],
      "metadata": {
        "id": "S8Y-ThMClybb"
      },
      "execution_count": null,
      "outputs": []
    },
    {
      "cell_type": "code",
      "source": [
        "# διαχωρισμός συνόλου δεδομένων σε σύνολο εκπαίδευσης και δοκιμών\n"
      ],
      "metadata": {
        "id": "P8OrBOYsl5OF"
      },
      "execution_count": null,
      "outputs": []
    },
    {
      "cell_type": "code",
      "source": [
        "# κατανομή της εξαρτημένης μεταβλητής (class)\n",
        "count_classes = pd.value_counts(data['Class'], sort = True)\n",
        "count_classes.plot(kind = 'bar', rot=0)\n",
        "plt.title(\"Transaction class distribution\")\n",
        "plt.xticks(range(2), LABELS)\n",
        "plt.xlabel(\"Class\")\n",
        "plt.ylabel(\"Frequency\");"
      ],
      "metadata": {
        "id": "px5_FhqLl7We"
      },
      "execution_count": null,
      "outputs": []
    },
    {
      "cell_type": "code",
      "source": [
        "# δημιουργία Random Forest αλγορίθμου\n"
      ],
      "metadata": {
        "id": "OzRUIi60l-44"
      },
      "execution_count": null,
      "outputs": []
    },
    {
      "cell_type": "code",
      "source": [
        "# εκπαίδευση αλγόριθμου\n"
      ],
      "metadata": {
        "id": "3_MS9YjhmB0D"
      },
      "execution_count": null,
      "outputs": []
    },
    {
      "cell_type": "code",
      "source": [
        "# πρόβλεψη συνόλου δοκιμής\n"
      ],
      "metadata": {
        "id": "iQSHC31lmFkX"
      },
      "execution_count": null,
      "outputs": []
    },
    {
      "cell_type": "code",
      "source": [
        "# υπολογισμός μετρικών αξιολόγησης (accuracy, precision, recall, f-score, confusion matrix)\n"
      ],
      "metadata": {
        "id": "HAysf-DumKYg"
      },
      "execution_count": null,
      "outputs": []
    },
    {
      "cell_type": "markdown",
      "source": [],
      "metadata": {
        "id": "_VjPBIYLl1pz"
      }
    }
  ]
}